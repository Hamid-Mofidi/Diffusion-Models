{
  "metadata": {
    "kernelspec": {
      "language": "python",
      "display_name": "Python 3",
      "name": "python3"
    },
    "language_info": {
      "name": "python",
      "version": "3.10.12",
      "mimetype": "text/x-python",
      "codemirror_mode": {
        "name": "ipython",
        "version": 3
      },
      "pygments_lexer": "ipython3",
      "nbconvert_exporter": "python",
      "file_extension": ".py"
    },
    "colab": {
      "provenance": [],
      "include_colab_link": true
    }
  },
  "nbformat_minor": 0,
  "nbformat": 4,
  "cells": [
    {
      "cell_type": "markdown",
      "metadata": {
        "id": "view-in-github",
        "colab_type": "text"
      },
      "source": [
        "<a href=\"https://colab.research.google.com/github/Hamid-Mofidi/Diffusion-Models/blob/main/DDPM_Paper/DDPM_FID.ipynb\" target=\"_parent\"><img src=\"https://colab.research.google.com/assets/colab-badge.svg\" alt=\"Open In Colab\"/></a>"
      ]
    },
    {
      "cell_type": "code",
      "source": [
        "import torchvision.transforms as transforms\n",
        "import torch.nn as nn\n",
        "import torchvision\n",
        "import math\n",
        "import matplotlib.pyplot as plt\n",
        "import torch\n",
        "import urllib\n",
        "import numpy as np\n",
        "import PIL"
      ],
      "metadata": {
        "_uuid": "8f2839f25d086af736a60e9eeb907d3b93b6e0e5",
        "_cell_guid": "b1076dfc-b9ad-4769-8c92-a6c4dae69d19",
        "execution": {
          "iopub.status.busy": "2023-09-14T09:19:43.119096Z",
          "iopub.execute_input": "2023-09-14T09:19:43.119476Z",
          "iopub.status.idle": "2023-09-14T09:19:47.870951Z",
          "shell.execute_reply.started": "2023-09-14T09:19:43.119435Z",
          "shell.execute_reply": "2023-09-14T09:19:47.869885Z"
        },
        "trusted": true,
        "id": "Zj0zQi_xdEQo"
      },
      "execution_count": null,
      "outputs": []
    },
    {
      "cell_type": "code",
      "source": [
        "device = torch.device(\"cuda:0\")"
      ],
      "metadata": {
        "execution": {
          "iopub.status.busy": "2023-09-14T09:19:47.873143Z",
          "iopub.execute_input": "2023-09-14T09:19:47.873684Z",
          "iopub.status.idle": "2023-09-14T09:19:47.879095Z",
          "shell.execute_reply.started": "2023-09-14T09:19:47.873650Z",
          "shell.execute_reply": "2023-09-14T09:19:47.877979Z"
        },
        "trusted": true,
        "id": "dcrB63VAdEQq"
      },
      "execution_count": null,
      "outputs": []
    },
    {
      "cell_type": "code",
      "source": [
        "def get_sample_image()-> PIL.Image.Image:\n",
        "    url = 'https://austerityphoto.co.uk/wp-content/uploads/2022/09/a-photo-of-a-corgi-dog-riding-a-bike-in-times-square.jpg'\n",
        "    filename = 'racoon.jpg'\n",
        "    urllib.request.urlretrieve(url, filename)\n",
        "    return PIL.Image.open(filename)"
      ],
      "metadata": {
        "execution": {
          "iopub.status.busy": "2023-09-14T09:19:47.880704Z",
          "iopub.execute_input": "2023-09-14T09:19:47.881148Z",
          "iopub.status.idle": "2023-09-14T09:19:47.890110Z",
          "shell.execute_reply.started": "2023-09-14T09:19:47.881117Z",
          "shell.execute_reply": "2023-09-14T09:19:47.889122Z"
        },
        "trusted": true,
        "id": "jUsj5OmZdEQr"
      },
      "execution_count": null,
      "outputs": []
    },
    {
      "cell_type": "code",
      "source": [
        "def plot_noise_distribution(noise, predicted_noise):\n",
        "    plt.hist(noise.cpu().numpy().flatten(), density = True, alpha = 0.8, label = \"ground truth noise\")\n",
        "    plt.hist(predicted_noise.cpu().numpy().flatten(), density = True, alpha = 0.8, label = \"predicted noise\")\n",
        "    plt.legend()\n",
        "    plt.show()"
      ],
      "metadata": {
        "execution": {
          "iopub.status.busy": "2023-09-14T09:19:47.892662Z",
          "iopub.execute_input": "2023-09-14T09:19:47.893200Z",
          "iopub.status.idle": "2023-09-14T09:19:47.900124Z",
          "shell.execute_reply.started": "2023-09-14T09:19:47.893168Z",
          "shell.execute_reply": "2023-09-14T09:19:47.899034Z"
        },
        "trusted": true,
        "id": "yzFY9_cJdEQr"
      },
      "execution_count": null,
      "outputs": []
    },
    {
      "cell_type": "code",
      "source": [
        "def plot_noise_prediction(noise, predicted_noise):\n",
        "    plt.figure(figsize=(15,15))\n",
        "    f, ax = plt.subplots(1, 2, figsize = (5,5))\n",
        "    ax[0].imshow(reverse_transform(noise))\n",
        "    ax[0].set_title(f\"ground truth noise\", fontsize = 10)\n",
        "    ax[1].imshow(reverse_transform(predicted_noise))\n",
        "    ax[1].set_title(f\"predicted noise\", fontsize = 10)\n",
        "    plt.show()"
      ],
      "metadata": {
        "execution": {
          "iopub.status.busy": "2023-09-14T09:19:47.901501Z",
          "iopub.execute_input": "2023-09-14T09:19:47.902259Z",
          "iopub.status.idle": "2023-09-14T09:19:47.911983Z",
          "shell.execute_reply.started": "2023-09-14T09:19:47.902227Z",
          "shell.execute_reply": "2023-09-14T09:19:47.911089Z"
        },
        "trusted": true,
        "id": "66IpLLridEQr"
      },
      "execution_count": null,
      "outputs": []
    },
    {
      "cell_type": "code",
      "source": [
        "class DiffusionModel:\n",
        "    def __init__(self, start_schedule=0.0001, end_schedule=0.02, timesteps = 300):\n",
        "        self.start_schedule = start_schedule\n",
        "        self.end_schedule = end_schedule\n",
        "        self.timesteps = timesteps\n",
        "\n",
        "        \"\"\"\n",
        "        if\n",
        "            betas = [0.1, 0.2, 0.3, ...]\n",
        "        then\n",
        "            alphas = [0.9, 0.8, 0.7, ...]\n",
        "            alphas_cumprod = [0.9, 0.9 * 0.8, 0.9 * 0.8, * 0.7, ...]\n",
        "\n",
        "\n",
        "        \"\"\"\n",
        "        self.betas = torch.linspace(start_schedule, end_schedule, timesteps)\n",
        "        self.alphas = 1 - self.betas\n",
        "        self.alphas_cumprod = torch.cumprod(self.alphas, axis=0)\n",
        "\n",
        "    def forward(self, x_0, t, device):\n",
        "        \"\"\"\n",
        "        x_0: (B, C, H, W)\n",
        "        t: (B,)\n",
        "        \"\"\"\n",
        "        noise = torch.randn_like(x_0)\n",
        "        sqrt_alphas_cumprod_t = self.get_index_from_list(self.alphas_cumprod.sqrt(), t, x_0.shape)\n",
        "        sqrt_one_minus_alphas_cumprod_t = self.get_index_from_list(torch.sqrt(1. - self.alphas_cumprod), t, x_0.shape)\n",
        "\n",
        "        mean = sqrt_alphas_cumprod_t.to(device) * x_0.to(device)\n",
        "        variance = sqrt_one_minus_alphas_cumprod_t.to(device) * noise.to(device)\n",
        "\n",
        "        return mean + variance, noise.to(device)\n",
        "\n",
        "    @torch.no_grad()\n",
        "    def backward(self, x, t, model, **kwargs):\n",
        "        \"\"\"\n",
        "        Calls the model to predict the noise in the image and returns\n",
        "        the denoised image.\n",
        "        Applies noise to this image, if we are not in the last step yet.\n",
        "        \"\"\"\n",
        "        betas_t = self.get_index_from_list(self.betas, t, x.shape)\n",
        "        sqrt_one_minus_alphas_cumprod_t = self.get_index_from_list(torch.sqrt(1. - self.alphas_cumprod), t, x.shape)\n",
        "        sqrt_recip_alphas_t = self.get_index_from_list(torch.sqrt(1.0 / self.alphas), t, x.shape)\n",
        "        mean = sqrt_recip_alphas_t * (x - betas_t * model(x, t, **kwargs) / sqrt_one_minus_alphas_cumprod_t)\n",
        "        posterior_variance_t = betas_t\n",
        "\n",
        "        if t == 0:\n",
        "            return mean\n",
        "        else:\n",
        "            noise = torch.randn_like(x)\n",
        "            variance = torch.sqrt(posterior_variance_t) * noise\n",
        "            return mean + variance\n",
        "\n",
        "\n",
        "    @staticmethod\n",
        "    def get_index_from_list(values, t, x_shape):\n",
        "        batch_size = t.shape[0]\n",
        "        \"\"\"\n",
        "        pick the values from vals\n",
        "        according to the indices stored in `t`\n",
        "        \"\"\"\n",
        "        result = values.gather(-1, t.cpu())\n",
        "        \"\"\"\n",
        "        if\n",
        "        x_shape = (5, 3, 64, 64)\n",
        "            -> len(x_shape) = 4\n",
        "            -> len(x_shape) - 1 = 3\n",
        "\n",
        "        and thus we reshape `out` to dims\n",
        "        (batch_size, 1, 1, 1)\n",
        "\n",
        "        \"\"\"\n",
        "        return result.reshape(batch_size, *((1,) * (len(x_shape) - 1))).to(t.device)\n"
      ],
      "metadata": {
        "execution": {
          "iopub.status.busy": "2023-09-14T09:19:47.913461Z",
          "iopub.execute_input": "2023-09-14T09:19:47.914180Z",
          "iopub.status.idle": "2023-09-14T09:19:47.929682Z",
          "shell.execute_reply.started": "2023-09-14T09:19:47.914149Z",
          "shell.execute_reply": "2023-09-14T09:19:47.928375Z"
        },
        "trusted": true,
        "id": "h5b6bNTqdEQs"
      },
      "execution_count": null,
      "outputs": []
    },
    {
      "cell_type": "code",
      "source": [
        "IMAGE_SHAPE = (32, 32)\n",
        "transform = transforms.Compose([\n",
        "    transforms.Resize(IMAGE_SHAPE), # Resize the input image\n",
        "    transforms.ToTensor(), # Convert to torch tensor (scales data into [0,1])\n",
        "    transforms.Lambda(lambda t: (t * 2) - 1), # Scale data between [-1, 1]\n",
        "])\n",
        "\n",
        "\n",
        "reverse_transform = transforms.Compose([\n",
        "    transforms.Lambda(lambda t: (t + 1) / 2), # Scale data between [0,1]\n",
        "    transforms.Lambda(lambda t: t.permute(1, 2, 0)), # CHW to HWC\n",
        "    transforms.Lambda(lambda t: t * 255.), # Scale data between [0.,255.]\n",
        "    transforms.Lambda(lambda t: t.cpu().numpy().astype(np.uint8)), # Convert into an uint8 numpy array\n",
        "    transforms.ToPILImage(), # Convert to PIL image\n",
        "])"
      ],
      "metadata": {
        "execution": {
          "iopub.status.busy": "2023-09-14T09:19:47.933175Z",
          "iopub.execute_input": "2023-09-14T09:19:47.933580Z",
          "iopub.status.idle": "2023-09-14T09:19:47.943570Z",
          "shell.execute_reply.started": "2023-09-14T09:19:47.933548Z",
          "shell.execute_reply": "2023-09-14T09:19:47.942582Z"
        },
        "trusted": true,
        "id": "rwFtdUm6dEQt"
      },
      "execution_count": null,
      "outputs": []
    },
    {
      "cell_type": "code",
      "source": [
        "pil_image = get_sample_image()\n",
        "torch_image = transform(pil_image)"
      ],
      "metadata": {
        "execution": {
          "iopub.status.busy": "2023-09-14T09:19:47.947216Z",
          "iopub.execute_input": "2023-09-14T09:19:47.947545Z",
          "iopub.status.idle": "2023-09-14T09:19:49.088872Z",
          "shell.execute_reply.started": "2023-09-14T09:19:47.947521Z",
          "shell.execute_reply": "2023-09-14T09:19:49.087569Z"
        },
        "trusted": true,
        "id": "GR3_-SctdEQt"
      },
      "execution_count": null,
      "outputs": []
    },
    {
      "cell_type": "code",
      "source": [
        "diffusion_model = DiffusionModel()"
      ],
      "metadata": {
        "execution": {
          "iopub.status.busy": "2023-09-14T09:19:49.090263Z",
          "iopub.execute_input": "2023-09-14T09:19:49.090852Z",
          "iopub.status.idle": "2023-09-14T09:19:49.111009Z",
          "shell.execute_reply.started": "2023-09-14T09:19:49.090819Z",
          "shell.execute_reply": "2023-09-14T09:19:49.110115Z"
        },
        "trusted": true,
        "id": "nyH-w8Y-dEQt"
      },
      "execution_count": null,
      "outputs": []
    },
    {
      "cell_type": "code",
      "source": [
        "NO_DISPLAY_IMAGES = 5\n",
        "torch_image_batch = torch.stack([torch_image] * NO_DISPLAY_IMAGES)\n",
        "t = torch.linspace(0, diffusion_model.timesteps - 1, NO_DISPLAY_IMAGES).long()\n",
        "noisy_image_batch, _ = diffusion_model.forward(torch_image_batch, t, device)\n",
        "\n",
        "plt.figure(figsize=(15,15))\n",
        "f, ax = plt.subplots(1, NO_DISPLAY_IMAGES, figsize = (100,100))\n",
        "\n",
        "for idx, image in enumerate(noisy_image_batch):\n",
        "    ax[idx].imshow(reverse_transform(image))\n",
        "    ax[idx].set_title(f\"Iteration: {t[idx].item()}\", fontsize = 100)\n",
        "plt.show()"
      ],
      "metadata": {
        "execution": {
          "iopub.status.busy": "2023-09-14T09:19:49.114912Z",
          "iopub.execute_input": "2023-09-14T09:19:49.115204Z",
          "iopub.status.idle": "2023-09-14T09:19:55.598178Z",
          "shell.execute_reply.started": "2023-09-14T09:19:49.115180Z",
          "shell.execute_reply": "2023-09-14T09:19:55.597240Z"
        },
        "trusted": true,
        "id": "rfFf_f4ydEQu"
      },
      "execution_count": null,
      "outputs": []
    },
    {
      "cell_type": "code",
      "source": [
        "class SinusoidalPositionEmbeddings(nn.Module):\n",
        "    def __init__(self, dim):\n",
        "        super().__init__()\n",
        "        self.dim = dim\n",
        "\n",
        "    def forward(self, time):\n",
        "        device = time.device\n",
        "        half_dim = self.dim // 2\n",
        "        embeddings = math.log(10000) / (half_dim - 1)\n",
        "        embeddings = torch.exp(torch.arange(half_dim, device=device) * -embeddings)\n",
        "        embeddings = time[:, None] * embeddings[None, :]\n",
        "        embeddings = torch.cat((embeddings.sin(), embeddings.cos()), dim=-1)\n",
        "        return embeddings"
      ],
      "metadata": {
        "execution": {
          "iopub.status.busy": "2023-09-14T09:19:55.599245Z",
          "iopub.execute_input": "2023-09-14T09:19:55.599712Z",
          "iopub.status.idle": "2023-09-14T09:19:55.607466Z",
          "shell.execute_reply.started": "2023-09-14T09:19:55.599678Z",
          "shell.execute_reply": "2023-09-14T09:19:55.606365Z"
        },
        "trusted": true,
        "id": "KQ-6rXv1dEQu"
      },
      "execution_count": null,
      "outputs": []
    },
    {
      "cell_type": "code",
      "source": [
        "class Block(nn.Module):\n",
        "    def __init__(self, channels_in, channels_out, time_embedding_dims, labels, num_filters = 3, downsample=True):\n",
        "        super().__init__()\n",
        "\n",
        "        self.time_embedding_dims = time_embedding_dims\n",
        "        self.time_embedding = SinusoidalPositionEmbeddings(time_embedding_dims)\n",
        "        self.labels = labels\n",
        "        if labels:\n",
        "            self.label_mlp = nn.Linear(1, channels_out)\n",
        "\n",
        "        self.downsample = downsample\n",
        "\n",
        "        if downsample:\n",
        "            self.conv1 = nn.Conv2d(channels_in, channels_out, num_filters, padding=1)\n",
        "            self.final = nn.Conv2d(channels_out, channels_out, 4, 2, 1)\n",
        "        else:\n",
        "            self.conv1 = nn.Conv2d(2 * channels_in, channels_out, num_filters, padding=1)\n",
        "            self.final = nn.ConvTranspose2d(channels_out, channels_out, 4, 2, 1)\n",
        "\n",
        "        self.bnorm1 = nn.BatchNorm2d(channels_out)\n",
        "        self.bnorm2 = nn.BatchNorm2d(channels_out)\n",
        "\n",
        "        self.conv2 = nn.Conv2d(channels_out, channels_out, 3, padding=1)\n",
        "        self.time_mlp = nn.Linear(time_embedding_dims, channels_out)\n",
        "        self.relu = nn.ReLU()\n",
        "\n",
        "    def forward(self, x, t, **kwargs):\n",
        "        o = self.bnorm1(self.relu(self.conv1(x)))\n",
        "        o_time = self.relu(self.time_mlp(self.time_embedding(t)))\n",
        "        o = o + o_time[(..., ) + (None, ) * 2]\n",
        "        if self.labels:\n",
        "            label = kwargs.get('labels')\n",
        "            o_label = self.relu(self.label_mlp(label))\n",
        "            o = o + o_label[(..., ) + (None, ) * 2]\n",
        "\n",
        "        o = self.bnorm2(self.relu(self.conv2(o)))\n",
        "\n",
        "        return self.final(o)"
      ],
      "metadata": {
        "execution": {
          "iopub.status.busy": "2023-09-14T09:19:55.608901Z",
          "iopub.execute_input": "2023-09-14T09:19:55.609532Z",
          "iopub.status.idle": "2023-09-14T09:19:55.622920Z",
          "shell.execute_reply.started": "2023-09-14T09:19:55.609487Z",
          "shell.execute_reply": "2023-09-14T09:19:55.622110Z"
        },
        "trusted": true,
        "id": "6_FfH9U9dEQu"
      },
      "execution_count": null,
      "outputs": []
    },
    {
      "cell_type": "code",
      "source": [
        "# The parameters of UNet are not trained to reach noise, but to estimate noise. The unet model takes in a noisy image and a time step,\n",
        "# and outputs an estimate of the noise that was added at that time step by the diffusion model.\n",
        "# The unet model does not add noise to the image, but subtracts it.\n",
        "# The unet model is trained by minimizing the mean squared error between the true noise and the estimated noise,\n",
        "# which means it learns to approximate the inverse of the diffusion model.\n",
        "\n",
        "class UNet(nn.Module):\n",
        "    def __init__(self, img_channels = 3, time_embedding_dims = 128, labels = False, sequence_channels = (64, 128, 256, 512, 1024)):\n",
        "        super().__init__()\n",
        "        self.time_embedding_dims = time_embedding_dims\n",
        "        sequence_channels_rev = reversed(sequence_channels) # is a built-in func that reverses the order of elements in a list, a tuple, or a string\n",
        "\n",
        "        self.downsampling = nn.ModuleList([Block(channels_in, channels_out, time_embedding_dims, labels) for channels_in, channels_out in zip(sequence_channels, sequence_channels[1:])])\n",
        "        self.upsampling = nn.ModuleList([Block(channels_in, channels_out, time_embedding_dims, labels,downsample=False) for channels_in, channels_out in zip(sequence_channels[::-1], sequence_channels[::-1][1:])])\n",
        "        self.conv1 = nn.Conv2d(img_channels, sequence_channels[0], 3, padding=1)\n",
        "        self.conv2 = nn.Conv2d(sequence_channels[0], img_channels, 1)\n",
        "\n",
        "\n",
        "    def forward(self, x, t, **kwargs):\n",
        "        residuals = []\n",
        "        o = self.conv1(x)\n",
        "        for ds in self.downsampling:\n",
        "            o = ds(o, t, **kwargs)\n",
        "            residuals.append(o)\n",
        "        for us, res in zip(self.upsampling, reversed(residuals)):\n",
        "            o = us(torch.cat((o, res), dim=1), t, **kwargs)\n",
        "\n",
        "        return self.conv2(o)"
      ],
      "metadata": {
        "execution": {
          "iopub.status.busy": "2023-09-14T09:19:55.624156Z",
          "iopub.execute_input": "2023-09-14T09:19:55.624742Z",
          "iopub.status.idle": "2023-09-14T09:19:55.637663Z",
          "shell.execute_reply.started": "2023-09-14T09:19:55.624710Z",
          "shell.execute_reply": "2023-09-14T09:19:55.636946Z"
        },
        "trusted": true,
        "id": "UCDfoKabdEQu"
      },
      "execution_count": null,
      "outputs": []
    },
    {
      "cell_type": "code",
      "source": [
        "NO_EPOCHS = 2000\n",
        "#NO_EPOCHS = 1\n",
        "PRINT_FREQUENCY = 400\n",
        "LR = 0.001\n",
        "BATCH_SIZE = 128\n",
        "VERBOSE = True\n",
        "\n",
        "unet = UNet(labels=False)\n",
        "unet.to(device)\n",
        "optimizer = torch.optim.Adam(unet.parameters(), lr=LR)"
      ],
      "metadata": {
        "execution": {
          "iopub.status.busy": "2023-09-14T09:19:55.638918Z",
          "iopub.execute_input": "2023-09-14T09:19:55.639595Z",
          "iopub.status.idle": "2023-09-14T09:19:56.265483Z",
          "shell.execute_reply.started": "2023-09-14T09:19:55.639556Z",
          "shell.execute_reply": "2023-09-14T09:19:56.264457Z"
        },
        "trusted": true,
        "id": "XGNfYNZYdEQv"
      },
      "execution_count": null,
      "outputs": []
    },
    {
      "cell_type": "code",
      "source": [
        "for epoch in range(NO_EPOCHS):\n",
        "    mean_epoch_loss = []\n",
        "\n",
        "    batch = torch.stack([torch_image] * BATCH_SIZE)\n",
        "    t = torch.randint(0, diffusion_model.timesteps, (BATCH_SIZE,)).long().to(device)\n",
        "\n",
        "    batch_noisy, noise = diffusion_model.forward(batch, t, device)\n",
        "    predicted_noise = unet(batch_noisy, t)\n",
        "\n",
        "    optimizer.zero_grad()  # optimizer = torch.optim.Adam(unet.parameters(), lr=LR)\n",
        "    loss = torch.nn.functional.mse_loss(noise, predicted_noise)\n",
        "    mean_epoch_loss.append(loss.item())\n",
        "    loss.backward()\n",
        "    optimizer.step()\n",
        "\n",
        "    if epoch % PRINT_FREQUENCY == 0:       # PRINT_FREQUENCY = 400\n",
        "        print('---')\n",
        "        print(f\"Epoch: {epoch} | Train Loss {np.mean(mean_epoch_loss)}\")\n",
        "        if VERBOSE:\n",
        "            with torch.no_grad():  # The \"with torch.no_grad()\" tells PyTorch not to keep track of gradients for the tensors inside the block.\n",
        "                plot_noise_prediction(noise[0], predicted_noise[0])\n",
        "                plot_noise_distribution(noise, predicted_noise)"
      ],
      "metadata": {
        "execution": {
          "iopub.status.busy": "2023-09-14T09:19:56.266954Z",
          "iopub.execute_input": "2023-09-14T09:19:56.267357Z",
          "iopub.status.idle": "2023-09-14T09:20:04.459115Z",
          "shell.execute_reply.started": "2023-09-14T09:19:56.267306Z",
          "shell.execute_reply": "2023-09-14T09:20:04.458154Z"
        },
        "trusted": true,
        "id": "Qg0UXCUVdEQv"
      },
      "execution_count": null,
      "outputs": []
    },
    {
      "cell_type": "code",
      "source": [
        "with torch.no_grad():\n",
        "    img = torch.randn((1, 3) + IMAGE_SHAPE).to(device)\n",
        "    for i in reversed(range(diffusion_model.timesteps)):   # is a built-in func that reverses the order of elements in a list, a tuple, or a string\n",
        "        t = torch.full((1,), i, dtype=torch.long, device=device)\n",
        "        img = diffusion_model.backward(img, t, unet.eval())\n",
        "        if i % 50 == 0:\n",
        "            plt.figure(figsize=(2,2))\n",
        "            plt.imshow(reverse_transform(img[0]))\n",
        "            plt.show()"
      ],
      "metadata": {
        "execution": {
          "iopub.status.busy": "2023-09-14T09:20:04.460520Z",
          "iopub.execute_input": "2023-09-14T09:20:04.463350Z",
          "iopub.status.idle": "2023-09-14T09:20:07.982945Z",
          "shell.execute_reply.started": "2023-09-14T09:20:04.463322Z",
          "shell.execute_reply": "2023-09-14T09:20:07.981973Z"
        },
        "trusted": true,
        "id": "x2wJazkZdEQv"
      },
      "execution_count": null,
      "outputs": []
    },
    {
      "cell_type": "code",
      "source": [
        "BATCH_SIZE = 256\n",
        "NO_EPOCHS = 100\n",
        "#NO_EPOCHS = 1\n",
        "PRINT_FREQUENCY = 10\n",
        "LR = 0.001\n",
        "VERBOSE = False\n",
        "\n",
        "unet = UNet(labels=True)\n",
        "unet.to(device)\n",
        "optimizer = torch.optim.Adam(unet.parameters(), lr=LR)"
      ],
      "metadata": {
        "execution": {
          "iopub.status.busy": "2023-09-14T09:20:07.984581Z",
          "iopub.execute_input": "2023-09-14T09:20:07.985219Z",
          "iopub.status.idle": "2023-09-14T09:20:08.606067Z",
          "shell.execute_reply.started": "2023-09-14T09:20:07.985185Z",
          "shell.execute_reply": "2023-09-14T09:20:08.605003Z"
        },
        "trusted": true,
        "id": "4JUbwQyWdEQv"
      },
      "execution_count": null,
      "outputs": []
    },
    {
      "cell_type": "code",
      "source": [
        "trainset = torchvision.datasets.CIFAR10(root='./data',\n",
        "                                        train=True,\n",
        "                                        download=True,\n",
        "                                        transform=transform)\n",
        "trainloader = torch.utils.data.DataLoader(trainset, batch_size=BATCH_SIZE, shuffle=True, num_workers=8, drop_last=True)\n",
        "\n",
        "testset = torchvision.datasets.CIFAR10(root='./data', train=False, download=True, transform=transform)\n",
        "testloader = torch.utils.data.DataLoader(testset, batch_size=BATCH_SIZE, shuffle=False, num_workers=8, drop_last=True)"
      ],
      "metadata": {
        "execution": {
          "iopub.status.busy": "2023-09-14T09:20:08.607671Z",
          "iopub.execute_input": "2023-09-14T09:20:08.608059Z",
          "iopub.status.idle": "2023-09-14T09:20:16.518512Z",
          "shell.execute_reply.started": "2023-09-14T09:20:08.608015Z",
          "shell.execute_reply": "2023-09-14T09:20:16.517434Z"
        },
        "trusted": true,
        "id": "RXGBjTCfdEQv"
      },
      "execution_count": null,
      "outputs": []
    },
    {
      "cell_type": "code",
      "source": [
        "for epoch in range(NO_EPOCHS):\n",
        "    mean_epoch_loss = []\n",
        "    mean_epoch_loss_val = []\n",
        "    for batch, label in trainloader:\n",
        "        t = torch.randint(0, diffusion_model.timesteps, (BATCH_SIZE,)).long().to(device)\n",
        "        batch = batch.to(device)\n",
        "        batch_noisy, noise = diffusion_model.forward(batch, t, device)\n",
        "        predicted_noise = unet(batch_noisy, t, labels = label.reshape(-1,1).float().to(device))\n",
        "\n",
        "        optimizer.zero_grad()\n",
        "        loss = torch.nn.functional.mse_loss(noise, predicted_noise)\n",
        "        mean_epoch_loss.append(loss.item())\n",
        "        loss.backward()\n",
        "        optimizer.step()\n",
        "\n",
        "    for batch, label in testloader:\n",
        "\n",
        "        t = torch.randint(0, diffusion_model.timesteps, (BATCH_SIZE,)).long().to(device)\n",
        "        batch = batch.to(device)\n",
        "\n",
        "        batch_noisy, noise = diffusion_model.forward(batch, t, device)\n",
        "        predicted_noise = unet(batch_noisy, t, labels = label.reshape(-1,1).float().to(device))\n",
        "\n",
        "        loss = torch.nn.functional.mse_loss(noise, predicted_noise)\n",
        "        mean_epoch_loss_val.append(loss.item())\n",
        "    if epoch % PRINT_FREQUENCY == 0:\n",
        "        print('---')\n",
        "        print(f\"Epoch: {epoch} | Train Loss {np.mean(mean_epoch_loss)} | Val Loss {np.mean(mean_epoch_loss_val)}\")\n",
        "        if VERBOSE:\n",
        "            with torch.no_grad():\n",
        "                plot_noise_prediction(noise[0], predicted_noise[0])\n",
        "                plot_noise_distribution(noise, predicted_noise)\n",
        "\n",
        "        torch.save(unet.state_dict(), f\"epoch: {epoch}\")"
      ],
      "metadata": {
        "execution": {
          "iopub.status.busy": "2023-09-14T09:20:16.523637Z",
          "iopub.execute_input": "2023-09-14T09:20:16.527569Z",
          "iopub.status.idle": "2023-09-14T09:22:22.182335Z",
          "shell.execute_reply.started": "2023-09-14T09:20:16.527533Z",
          "shell.execute_reply": "2023-09-14T09:22:22.181140Z"
        },
        "trusted": true,
        "id": "o87wNVxXdEQv"
      },
      "execution_count": null,
      "outputs": []
    },
    {
      "cell_type": "code",
      "source": [
        "#unet = UNet(labels=True)\n",
        "#unet.load_state_dict(torch.load((\"epoch: 80\")))"
      ],
      "metadata": {
        "execution": {
          "iopub.status.busy": "2023-09-14T09:22:22.186874Z",
          "iopub.execute_input": "2023-09-14T09:22:22.187190Z",
          "iopub.status.idle": "2023-09-14T09:22:22.192736Z",
          "shell.execute_reply.started": "2023-09-14T09:22:22.187165Z",
          "shell.execute_reply": "2023-09-14T09:22:22.191289Z"
        },
        "trusted": true,
        "id": "qulsKs1DdEQv"
      },
      "execution_count": null,
      "outputs": []
    },
    {
      "cell_type": "code",
      "source": [
        "classes = ('plane', 'car', 'bird', 'cat',\n",
        "           'deer', 'dog', 'frog', 'horse', 'ship', 'truck')"
      ],
      "metadata": {
        "execution": {
          "iopub.status.busy": "2023-09-14T09:22:22.194179Z",
          "iopub.execute_input": "2023-09-14T09:22:22.194724Z",
          "iopub.status.idle": "2023-09-14T09:22:22.206114Z",
          "shell.execute_reply.started": "2023-09-14T09:22:22.194691Z",
          "shell.execute_reply": "2023-09-14T09:22:22.204959Z"
        },
        "trusted": true,
        "id": "Jgt4MSfGdEQw"
      },
      "execution_count": null,
      "outputs": []
    },
    {
      "cell_type": "code",
      "source": [
        "NUM_CLASSES = len(classes)\n",
        "NUM_DISPLAY_IMAGES = 5"
      ],
      "metadata": {
        "execution": {
          "iopub.status.busy": "2023-09-14T09:22:22.207502Z",
          "iopub.execute_input": "2023-09-14T09:22:22.208021Z",
          "iopub.status.idle": "2023-09-14T09:22:22.216753Z",
          "shell.execute_reply.started": "2023-09-14T09:22:22.207987Z",
          "shell.execute_reply": "2023-09-14T09:22:22.215754Z"
        },
        "trusted": true,
        "id": "LUIZb-s-dEQw"
      },
      "execution_count": null,
      "outputs": []
    },
    {
      "cell_type": "code",
      "source": [
        "torch.manual_seed(16)\n",
        "\n",
        "plt.figure(figsize=(15,15))\n",
        "f, ax = plt.subplots(NUM_CLASSES, NUM_DISPLAY_IMAGES, figsize = (100,100))\n",
        "\n",
        "for c in range(NUM_CLASSES):\n",
        "    imgs = torch.randn((NUM_DISPLAY_IMAGES, 3) + IMAGE_SHAPE).to(device)   # full random noise (from a standard normal distribution: mean=0, stndrd dvitin=1)\n",
        "    for i in reversed(range(diffusion_model.timesteps)):\n",
        "        t = torch.full((1,), i, dtype=torch.long, device=device)\n",
        "        labels = torch.tensor([c] * NUM_DISPLAY_IMAGES).resize(NUM_DISPLAY_IMAGES, 1).float().to(device)\n",
        "        imgs = diffusion_model.backward(x=imgs, t=t, model=unet.eval().to(device), labels = labels)     # the predicted image\n",
        "    for idx, img in enumerate(imgs):\n",
        "        ax[c][idx].imshow(reverse_transform(img))\n",
        "        ax[c][idx].set_title(f\"Class: {classes[c]}\", fontsize = 100)\n",
        "\n",
        "plt.show()"
      ],
      "metadata": {
        "execution": {
          "iopub.status.busy": "2023-09-14T09:22:32.818873Z",
          "iopub.execute_input": "2023-09-14T09:22:32.819767Z",
          "iopub.status.idle": "2023-09-14T09:23:35.880922Z",
          "shell.execute_reply.started": "2023-09-14T09:22:32.819721Z",
          "shell.execute_reply": "2023-09-14T09:23:35.879359Z"
        },
        "trusted": true,
        "id": "S-t7NV-edEQw"
      },
      "execution_count": null,
      "outputs": []
    },
    {
      "cell_type": "code",
      "source": [
        "imgs.shape"
      ],
      "metadata": {
        "execution": {
          "iopub.status.busy": "2023-09-14T09:23:36.292128Z",
          "iopub.execute_input": "2023-09-14T09:23:36.292488Z",
          "iopub.status.idle": "2023-09-14T09:23:36.300218Z",
          "shell.execute_reply.started": "2023-09-14T09:23:36.292455Z",
          "shell.execute_reply": "2023-09-14T09:23:36.299282Z"
        },
        "trusted": true,
        "id": "TlMqUyEYdEQw"
      },
      "execution_count": null,
      "outputs": []
    },
    {
      "cell_type": "markdown",
      "source": [
        "## FID Score"
      ],
      "metadata": {
        "id": "OP6yO_sTdEQw"
      }
    },
    {
      "cell_type": "code",
      "source": [
        "import torchvision.transforms as T\n",
        "import torchvision.utils as utils\n",
        "import torch.nn.functional as F\n",
        "from scipy import linalg\n",
        "from torchvision.models import inception_v3\n",
        "import torchvision.datasets as datasets\n",
        "import torch\n",
        "import numpy as np\n",
        "import torchvision.transforms as transforms\n",
        "from torch.utils.data import DataLoader"
      ],
      "metadata": {
        "execution": {
          "iopub.status.busy": "2023-09-14T09:23:55.193684Z",
          "iopub.execute_input": "2023-09-14T09:23:55.194047Z",
          "iopub.status.idle": "2023-09-14T09:23:55.265775Z",
          "shell.execute_reply.started": "2023-09-14T09:23:55.194012Z",
          "shell.execute_reply": "2023-09-14T09:23:55.264582Z"
        },
        "trusted": true,
        "id": "jD3CB3ZLdEQx"
      },
      "execution_count": null,
      "outputs": []
    },
    {
      "cell_type": "code",
      "source": [
        "# if torch.cuda.is_available():\n",
        "#     device = torch.device('cuda:0')\n",
        "# else:\n",
        "#     device = torch.device('cpu')\n",
        "\n",
        "# device"
      ],
      "metadata": {
        "id": "v-Qgo1cMdEQx"
      },
      "execution_count": null,
      "outputs": []
    },
    {
      "cell_type": "code",
      "source": [
        "inception_model = inception_v3(weights='Inception_V3_Weights.DEFAULT',#True,\n",
        "                               transform_input=False).to(device)\n",
        "inception_model.eval();"
      ],
      "metadata": {
        "execution": {
          "iopub.status.busy": "2023-09-14T09:24:10.494489Z",
          "iopub.execute_input": "2023-09-14T09:24:10.494873Z",
          "iopub.status.idle": "2023-09-14T09:24:11.502465Z",
          "shell.execute_reply.started": "2023-09-14T09:24:10.494842Z",
          "shell.execute_reply": "2023-09-14T09:24:11.501323Z"
        },
        "trusted": true,
        "id": "xM01wYpIdEQy"
      },
      "execution_count": null,
      "outputs": []
    },
    {
      "cell_type": "code",
      "source": [
        "# # Load the CIFAR10 dataset\n",
        "dataset = datasets.CIFAR10(root='../data',\n",
        "                           train=False,\n",
        "                           download=True)\n",
        "\n",
        "NUM_CLASSES = 10\n",
        "\n",
        "n_samples = 5\n",
        "\n",
        "# Select 5 images from each class\n",
        "real_images = []\n",
        "generated_images = []\n",
        "\n",
        "sampled_images = []\n",
        "\n",
        "for c in range(NUM_CLASSES):\n",
        "    indices = np.where(np.array(dataset.targets)==c)[0]\n",
        "\n",
        "    # Randomly sample 10 indices from the class\n",
        "    sample = np.random.choice(indices, size=2*n_samples, replace=False)\n",
        "\n",
        "    ref_idx = sample[:n_samples]\n",
        "    gen_idx = sample[n_samples:]\n",
        "\n",
        "    real_images.append(torch.tensor(dataset.data[ref_idx]))\n",
        "\n",
        "    generated_images.append(torch.tensor(dataset.data[gen_idx]))\n",
        "\n",
        "\n",
        "real_images = torch.stack(real_images).to(device)/255.\n",
        "generated_images = torch.stack(generated_images).to(device)/255.\n",
        "\n",
        "real_images = torch.reshape(real_images,(-1,3,32,32))\n",
        "generated_images = torch.reshape(generated_images,(-1,3,32,32))\n",
        "\n",
        "torch.max(real_images), torch.min(real_images)"
      ],
      "metadata": {
        "execution": {
          "iopub.status.busy": "2023-09-14T09:25:11.165560Z",
          "iopub.execute_input": "2023-09-14T09:25:11.166107Z",
          "iopub.status.idle": "2023-09-14T09:25:18.702834Z",
          "shell.execute_reply.started": "2023-09-14T09:25:11.166068Z",
          "shell.execute_reply": "2023-09-14T09:25:18.701784Z"
        },
        "trusted": true,
        "id": "jmzWL_-edEQy"
      },
      "execution_count": null,
      "outputs": []
    },
    {
      "cell_type": "code",
      "source": [
        "interpolate = lambda images : torch.nn.functional.interpolate(images.to(torch.float32),\n",
        "                                                              size=(299, 299),\n",
        "                                                              mode='bicubic',\n",
        "                                                              align_corners=False)\n",
        "\n",
        "real_images = interpolate(real_images)\n",
        "#generated_images = interpolate(generated_images)"
      ],
      "metadata": {
        "execution": {
          "iopub.status.busy": "2023-09-14T09:25:29.474340Z",
          "iopub.execute_input": "2023-09-14T09:25:29.475487Z",
          "iopub.status.idle": "2023-09-14T09:25:29.482461Z",
          "shell.execute_reply.started": "2023-09-14T09:25:29.475447Z",
          "shell.execute_reply": "2023-09-14T09:25:29.481424Z"
        },
        "trusted": true,
        "id": "_O8KybeBdEQy"
      },
      "execution_count": null,
      "outputs": []
    },
    {
      "cell_type": "code",
      "source": [
        "real_activations = inception_model(real_images).detach().cpu().numpy()"
      ],
      "metadata": {
        "execution": {
          "iopub.status.busy": "2023-09-14T09:25:42.300419Z",
          "iopub.execute_input": "2023-09-14T09:25:42.300782Z",
          "iopub.status.idle": "2023-09-14T09:25:42.727894Z",
          "shell.execute_reply.started": "2023-09-14T09:25:42.300753Z",
          "shell.execute_reply": "2023-09-14T09:25:42.726851Z"
        },
        "trusted": true,
        "id": "OAHAxBZldEQy"
      },
      "execution_count": null,
      "outputs": []
    },
    {
      "cell_type": "code",
      "source": [
        "generated_images = interpolate(imgs)\n",
        "generated_activations = inception_model(generated_images).detach().cpu().numpy()"
      ],
      "metadata": {
        "execution": {
          "iopub.status.busy": "2023-09-14T09:26:31.014288Z",
          "iopub.execute_input": "2023-09-14T09:26:31.014725Z",
          "iopub.status.idle": "2023-09-14T09:26:31.126613Z",
          "shell.execute_reply.started": "2023-09-14T09:26:31.014693Z",
          "shell.execute_reply": "2023-09-14T09:26:31.125468Z"
        },
        "trusted": true,
        "id": "BksxvqfUdEQy"
      },
      "execution_count": null,
      "outputs": []
    },
    {
      "cell_type": "code",
      "source": [
        "real_activations.shape,generated_activations.shape"
      ],
      "metadata": {
        "execution": {
          "iopub.status.busy": "2023-09-14T09:26:42.702479Z",
          "iopub.execute_input": "2023-09-14T09:26:42.702970Z",
          "iopub.status.idle": "2023-09-14T09:26:42.715380Z",
          "shell.execute_reply.started": "2023-09-14T09:26:42.702929Z",
          "shell.execute_reply": "2023-09-14T09:26:42.714191Z"
        },
        "trusted": true,
        "id": "LhnPYAMLdEQy"
      },
      "execution_count": null,
      "outputs": []
    },
    {
      "cell_type": "code",
      "source": [
        "real_mean = np.mean(real_activations, axis=0)\n",
        "real_cov = np.cov(real_activations-real_mean, rowvar=False)\n",
        "real_mean.shape, real_cov.shape"
      ],
      "metadata": {
        "execution": {
          "iopub.status.busy": "2023-09-14T09:26:48.912903Z",
          "iopub.execute_input": "2023-09-14T09:26:48.913271Z",
          "iopub.status.idle": "2023-09-14T09:26:48.938391Z",
          "shell.execute_reply.started": "2023-09-14T09:26:48.913242Z",
          "shell.execute_reply": "2023-09-14T09:26:48.937200Z"
        },
        "trusted": true,
        "id": "QGIex0N_dEQy"
      },
      "execution_count": null,
      "outputs": []
    },
    {
      "cell_type": "code",
      "source": [
        "generated_mean = np.mean(generated_activations, axis=0)\n",
        "generated_cov = np.cov(generated_activations-generated_mean, rowvar=False)"
      ],
      "metadata": {
        "execution": {
          "iopub.status.busy": "2023-09-14T09:26:53.882343Z",
          "iopub.execute_input": "2023-09-14T09:26:53.882698Z",
          "iopub.status.idle": "2023-09-14T09:26:53.899865Z",
          "shell.execute_reply.started": "2023-09-14T09:26:53.882669Z",
          "shell.execute_reply": "2023-09-14T09:26:53.898394Z"
        },
        "trusted": true,
        "id": "XC86i-N3dEQy"
      },
      "execution_count": null,
      "outputs": []
    },
    {
      "cell_type": "code",
      "source": [
        "# Calculate the squared Euclidean distance between the means\n",
        "squared_distance = np.sum((real_mean - generated_mean) ** 2)\n",
        "\n",
        "squared_distance"
      ],
      "metadata": {
        "execution": {
          "iopub.status.busy": "2023-09-14T09:27:23.194569Z",
          "iopub.execute_input": "2023-09-14T09:27:23.194940Z",
          "iopub.status.idle": "2023-09-14T09:27:23.203079Z",
          "shell.execute_reply.started": "2023-09-14T09:27:23.194909Z",
          "shell.execute_reply": "2023-09-14T09:27:23.201778Z"
        },
        "trusted": true,
        "id": "JmrUaFPidEQz"
      },
      "execution_count": null,
      "outputs": []
    },
    {
      "cell_type": "code",
      "source": [
        "sqrtm = lambda mat,reg_param=1e-5 : linalg.sqrtm(mat+reg_param * np.identity(mat.shape[0]))"
      ],
      "metadata": {
        "execution": {
          "iopub.status.busy": "2023-09-14T09:27:28.533071Z",
          "iopub.execute_input": "2023-09-14T09:27:28.533519Z",
          "iopub.status.idle": "2023-09-14T09:27:28.540246Z",
          "shell.execute_reply.started": "2023-09-14T09:27:28.533471Z",
          "shell.execute_reply": "2023-09-14T09:27:28.539064Z"
        },
        "trusted": true,
        "id": "eIzl6V8TdEQz"
      },
      "execution_count": null,
      "outputs": []
    },
    {
      "cell_type": "code",
      "source": [
        "sqrt_real_cov = sqrtm(real_cov)\n",
        "cov_term = np.trace(real_cov + generated_cov -\n",
        "                    2. * sqrtm(sqrt_real_cov @ generated_cov @ sqrt_real_cov))\n",
        "\n",
        "cov_term"
      ],
      "metadata": {
        "execution": {
          "iopub.status.busy": "2023-09-14T09:27:34.797254Z",
          "iopub.execute_input": "2023-09-14T09:27:34.797652Z",
          "iopub.status.idle": "2023-09-14T09:27:39.455023Z",
          "shell.execute_reply.started": "2023-09-14T09:27:34.797622Z",
          "shell.execute_reply": "2023-09-14T09:27:39.453488Z"
        },
        "trusted": true,
        "id": "p7_2rvOedEQz"
      },
      "execution_count": null,
      "outputs": []
    },
    {
      "cell_type": "code",
      "source": [
        "fid_score = squared_distance+cov_term\n",
        "\n",
        "fid_score"
      ],
      "metadata": {
        "execution": {
          "iopub.status.busy": "2023-09-14T09:27:49.214577Z",
          "iopub.execute_input": "2023-09-14T09:27:49.214925Z",
          "iopub.status.idle": "2023-09-14T09:27:49.221930Z",
          "shell.execute_reply.started": "2023-09-14T09:27:49.214897Z",
          "shell.execute_reply": "2023-09-14T09:27:49.221044Z"
        },
        "trusted": true,
        "id": "T5et7uHRdEQz"
      },
      "execution_count": null,
      "outputs": []
    },
    {
      "cell_type": "code",
      "source": [
        "def calculate_fid_score(real_activations, generated_activations):\n",
        "\n",
        "    real_mean = np.mean(real_activations, axis=0)\n",
        "    real_cov = np.cov(real_activations-real_mean, rowvar=False)\n",
        "\n",
        "    generated_mean = np.mean(generated_activations, axis=0)\n",
        "    generated_cov = np.cov(generated_activations, rowvar=False)\n",
        "\n",
        "    # Calculate the squared Euclidean distance between the means\n",
        "    squared_distance = np.sum((real_mean - generated_mean) ** 2)\n",
        "\n",
        "    # Calculate the trace of the product of the covariances\n",
        "\n",
        "    sqrtm = lambda mat,reg_param=1e-5 : linalg.sqrtm(mat+reg_param * np.identity(mat.shape[0]))\n",
        "\n",
        "    sqrt_real_cov = sqrtm(real_cov)\n",
        "    cov_term = np.trace(real_cov + generated_cov -\n",
        "                        2. * sqrtm(sqrt_real_cov @ generated_cov @ sqrt_real_cov))\n",
        "\n",
        "    # Calculate the FID score\n",
        "    fid_score = squared_distance + cov_term\n",
        "\n",
        "    return fid_score"
      ],
      "metadata": {
        "execution": {
          "iopub.status.busy": "2023-09-14T09:28:03.007321Z",
          "iopub.execute_input": "2023-09-14T09:28:03.007690Z",
          "iopub.status.idle": "2023-09-14T09:28:03.015758Z",
          "shell.execute_reply.started": "2023-09-14T09:28:03.007659Z",
          "shell.execute_reply": "2023-09-14T09:28:03.014453Z"
        },
        "trusted": true,
        "id": "LpvBssYBdEQ0"
      },
      "execution_count": null,
      "outputs": []
    },
    {
      "cell_type": "code",
      "source": [
        "calculate_fid_score(real_activations, generated_activations)"
      ],
      "metadata": {
        "execution": {
          "iopub.status.busy": "2023-09-14T09:28:05.755654Z",
          "iopub.execute_input": "2023-09-14T09:28:05.756024Z",
          "iopub.status.idle": "2023-09-14T09:28:10.387929Z",
          "shell.execute_reply.started": "2023-09-14T09:28:05.755994Z",
          "shell.execute_reply": "2023-09-14T09:28:10.386843Z"
        },
        "trusted": true,
        "id": "sMM_VASRdEQ0"
      },
      "execution_count": null,
      "outputs": []
    },
    {
      "cell_type": "code",
      "source": [
        "!pip install POT"
      ],
      "metadata": {
        "execution": {
          "iopub.status.busy": "2023-09-14T09:28:13.184941Z",
          "iopub.execute_input": "2023-09-14T09:28:13.185359Z",
          "iopub.status.idle": "2023-09-14T09:28:27.517506Z",
          "shell.execute_reply.started": "2023-09-14T09:28:13.185318Z",
          "shell.execute_reply": "2023-09-14T09:28:27.516282Z"
        },
        "trusted": true,
        "id": "TlnJKX5idEQ1"
      },
      "execution_count": null,
      "outputs": []
    },
    {
      "cell_type": "code",
      "source": [
        "import ot\n",
        "\n",
        "distance_matrix = ot.dist(real_activations, generated_activations)\n",
        "\n",
        "# Compute the Wasserstein distance using POT\n",
        "distance = ot.emd2([], [], distance_matrix)\n",
        "\n",
        "distance"
      ],
      "metadata": {
        "execution": {
          "iopub.status.busy": "2023-09-14T09:28:27.520246Z",
          "iopub.execute_input": "2023-09-14T09:28:27.520658Z",
          "iopub.status.idle": "2023-09-14T09:28:46.989972Z",
          "shell.execute_reply.started": "2023-09-14T09:28:27.520619Z",
          "shell.execute_reply": "2023-09-14T09:28:46.988859Z"
        },
        "trusted": true,
        "id": "o2WAGOO5dEQ1"
      },
      "execution_count": null,
      "outputs": []
    },
    {
      "cell_type": "code",
      "source": [],
      "metadata": {
        "id": "Mmgm1FQ3dEQ1"
      },
      "execution_count": null,
      "outputs": []
    }
  ]
}