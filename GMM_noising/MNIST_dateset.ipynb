{
  "cells": [
    {
      "cell_type": "markdown",
      "metadata": {
        "id": "view-in-github",
        "colab_type": "text"
      },
      "source": [
        "<a href=\"https://colab.research.google.com/github/Hamid-Mofidi/Diffusion-Models/blob/main/GMM_noising/MNIST_dateset.ipynb\" target=\"_parent\"><img src=\"https://colab.research.google.com/assets/colab-badge.svg\" alt=\"Open In Colab\"/></a>"
      ]
    },
    {
      "cell_type": "code",
      "execution_count": 1,
      "id": "a49e57ec-166f-4452-8c3e-2634dc484008",
      "metadata": {
        "id": "a49e57ec-166f-4452-8c3e-2634dc484008"
      },
      "outputs": [],
      "source": [
        "import numpy as np\n",
        "from sklearn.mixture import GaussianMixture\n",
        "from sklearn.datasets import make_blobs\n",
        "import matplotlib.pyplot as plt\n",
        "import matplotlib\n",
        "from sklearn.datasets import fetch_openml"
      ]
    },
    {
      "cell_type": "markdown",
      "source": [
        "**GaussianMixture:** It's a class in scikit-learn representing a Gaussian Mixture Model, commonly used for clustering. You can fit this model to data using the Expectation-Maximization algorithm.\n",
        "\n",
        "**make_blobs:** It's a function that generates isotropic Gaussian blobs for clustering and classification tasks. It's often used for creating synthetic datasets for testing machine learning algorithms."
      ],
      "metadata": {
        "id": "y6n6oxzG2PbL"
      },
      "id": "y6n6oxzG2PbL"
    },
    {
      "cell_type": "code",
      "source": [
        "# Parameters for generating Gaussian distributions\n",
        "#n_clusters = 4\n",
        "#n_samples_per_cluster = int(10000 / n_clusters)\n",
        "#n_features = 1\n",
        "#cluster_std_range = [0.5, 1]\n",
        "#print(len(cluster_std_range))"
      ],
      "metadata": {
        "id": "2IWlPghTHO8L"
      },
      "id": "2IWlPghTHO8L",
      "execution_count": 2,
      "outputs": []
    },
    {
      "cell_type": "code",
      "execution_count": 3,
      "id": "83d2a75c-5a74-4243-94c0-e77b0b099038",
      "metadata": {
        "id": "83d2a75c-5a74-4243-94c0-e77b0b099038"
      },
      "outputs": [],
      "source": [
        "def MNIST_dataset(random_seed=42):\n",
        "    # Set NumPy random seed\n",
        "    np.random.seed(random_seed)\n",
        "\n",
        "    # Load MNIST dataset\n",
        "    mnist = fetch_openml('mnist_784', version=1)\n",
        "    X, y = mnist.data, mnist.target.astype(int)\n",
        "\n",
        "    # Select a subset of the data (e.g., first 10,000 samples)\n",
        "    subset_size = 10000\n",
        "    X_subset, y_subset = X[:subset_size], y[:subset_size]\n",
        "\n",
        "    return X_subset, y_subset"
      ]
    },
    {
      "cell_type": "code",
      "execution_count": 4,
      "id": "fb440066-18c6-4020-9093-4125392ecb45",
      "metadata": {
        "id": "fb440066-18c6-4020-9093-4125392ecb45"
      },
      "outputs": [],
      "source": [
        "def plot_gaussian_distributions(X, y, n_clusters):\n",
        "    # Plot histograms with different colors for each cluster\n",
        "    colors = plt.cm.viridis(np.linspace(0, 1, n_clusters))\n",
        "    for label, color in zip(np.unique(y), colors):\n",
        "        idx = np.where(y == label)[0]\n",
        "        x_idx = X.iloc[idx, :].to_numpy()\n",
        "        plt.hist(x_idx, alpha=0.5, color=color, label=f'Cluster {label}')\n",
        "\n",
        "    plt.grid('both')\n",
        "    plt.legend()\n",
        "    plt.title(f'Histograms of {n_clusters} Gaussian Distributions')\n",
        "    plt.xlabel('Feature Value')\n",
        "    plt.ylabel('Frequency')\n",
        "    plt.show()\n",
        "\n",
        "    return colors\n",
        "\n"
      ]
    },
    {
      "cell_type": "code",
      "source": [
        "def add_noise(X, diffusion_steps, eps):\n",
        "    X_noised = X.copy()\n",
        "    for _ in range(diffusion_steps):\n",
        "        noise = np.random.normal(size=X.shape)\n",
        "        X_noised += eps * noise\n",
        "    return X_noised"
      ],
      "metadata": {
        "id": "_oEDDHOUFIDy"
      },
      "id": "_oEDDHOUFIDy",
      "execution_count": 5,
      "outputs": []
    },
    {
      "cell_type": "code",
      "source": [
        "def plot_noised_histograms(X_noised, y, colors):\n",
        "    for label, color in zip(np.unique(y), colors):\n",
        "        idx = np.where(y == label)[0]\n",
        "        x_idx = X_noised[idx, :]  # Use NumPy array indexing to extract the rows\n",
        "        plt.hist(x_idx, alpha=0.2, color=color)\n",
        "\n",
        "    plt.grid('both')\n",
        "    plt.show()"
      ],
      "metadata": {
        "id": "1e-3yc9RGrVj"
      },
      "id": "1e-3yc9RGrVj",
      "execution_count": 6,
      "outputs": []
    },
    {
      "cell_type": "code",
      "source": [
        "# Load MNIST data\n",
        "X, y = MNIST_dataset(random_seed=42)"
      ],
      "metadata": {
        "id": "QziS6nrtZ0FN",
        "outputId": "7c13aaf3-df11-4e3a-8997-1c1b2412e309",
        "colab": {
          "base_uri": "https://localhost:8080/"
        }
      },
      "id": "QziS6nrtZ0FN",
      "execution_count": 7,
      "outputs": [
        {
          "output_type": "stream",
          "name": "stderr",
          "text": [
            "/usr/local/lib/python3.10/dist-packages/sklearn/datasets/_openml.py:968: FutureWarning: The default value of `parser` will change from `'liac-arff'` to `'auto'` in 1.4. You can set `parser='auto'` to silence this warning. Therefore, an `ImportError` will be raised from 1.4 if the dataset is dense and pandas is not installed. Note that the pandas parser may return different data types. See the Notes Section in fetch_openml's API doc for details.\n",
            "  warn(\n"
          ]
        }
      ]
    },
    {
      "cell_type": "code",
      "execution_count": 8,
      "id": "79545d2c-85d4-4137-8f40-647a9aa580fa",
      "metadata": {
        "colab": {
          "base_uri": "https://localhost:8080/",
          "height": 826
        },
        "id": "79545d2c-85d4-4137-8f40-647a9aa580fa",
        "outputId": "e9a01cba-22d0-4e58-c1b4-d046cc214943"
      },
      "outputs": [
        {
          "output_type": "error",
          "ename": "ValueError",
          "evalue": "ignored",
          "traceback": [
            "\u001b[0;31m---------------------------------------------------------------------------\u001b[0m",
            "\u001b[0;31mValueError\u001b[0m                                Traceback (most recent call last)",
            "\u001b[0;32m<ipython-input-8-95babe2467ee>\u001b[0m in \u001b[0;36m<cell line: 10>\u001b[0;34m()\u001b[0m\n\u001b[1;32m      8\u001b[0m \u001b[0;31m# Plot histograms with noise\u001b[0m\u001b[0;34m\u001b[0m\u001b[0;34m\u001b[0m\u001b[0m\n\u001b[1;32m      9\u001b[0m \u001b[0mn_clusters\u001b[0m \u001b[0;34m=\u001b[0m \u001b[0mlen\u001b[0m\u001b[0;34m(\u001b[0m\u001b[0mnp\u001b[0m\u001b[0;34m.\u001b[0m\u001b[0munique\u001b[0m\u001b[0;34m(\u001b[0m\u001b[0my\u001b[0m\u001b[0;34m)\u001b[0m\u001b[0;34m)\u001b[0m\u001b[0;34m\u001b[0m\u001b[0;34m\u001b[0m\u001b[0m\n\u001b[0;32m---> 10\u001b[0;31m \u001b[0mcolors\u001b[0m \u001b[0;34m=\u001b[0m \u001b[0mplot_gaussian_distributions\u001b[0m\u001b[0;34m(\u001b[0m\u001b[0mX_noised\u001b[0m\u001b[0;34m,\u001b[0m \u001b[0my\u001b[0m\u001b[0;34m,\u001b[0m \u001b[0mn_clusters\u001b[0m\u001b[0;34m)\u001b[0m\u001b[0;34m\u001b[0m\u001b[0;34m\u001b[0m\u001b[0m\n\u001b[0m\u001b[1;32m     11\u001b[0m \u001b[0mplot_noised_histograms\u001b[0m\u001b[0;34m(\u001b[0m\u001b[0mX_noised\u001b[0m\u001b[0;34m,\u001b[0m \u001b[0my\u001b[0m\u001b[0;34m,\u001b[0m \u001b[0mcolors\u001b[0m\u001b[0;34m)\u001b[0m\u001b[0;34m\u001b[0m\u001b[0;34m\u001b[0m\u001b[0m\n\u001b[1;32m     12\u001b[0m \u001b[0;34m\u001b[0m\u001b[0m\n",
            "\u001b[0;32m<ipython-input-4-665331a749db>\u001b[0m in \u001b[0;36mplot_gaussian_distributions\u001b[0;34m(X, y, n_clusters)\u001b[0m\n\u001b[1;32m      5\u001b[0m         \u001b[0midx\u001b[0m \u001b[0;34m=\u001b[0m \u001b[0mnp\u001b[0m\u001b[0;34m.\u001b[0m\u001b[0mwhere\u001b[0m\u001b[0;34m(\u001b[0m\u001b[0my\u001b[0m \u001b[0;34m==\u001b[0m \u001b[0mlabel\u001b[0m\u001b[0;34m)\u001b[0m\u001b[0;34m[\u001b[0m\u001b[0;36m0\u001b[0m\u001b[0;34m]\u001b[0m\u001b[0;34m\u001b[0m\u001b[0;34m\u001b[0m\u001b[0m\n\u001b[1;32m      6\u001b[0m         \u001b[0mx_idx\u001b[0m \u001b[0;34m=\u001b[0m \u001b[0mX\u001b[0m\u001b[0;34m.\u001b[0m\u001b[0miloc\u001b[0m\u001b[0;34m[\u001b[0m\u001b[0midx\u001b[0m\u001b[0;34m,\u001b[0m \u001b[0;34m:\u001b[0m\u001b[0;34m]\u001b[0m\u001b[0;34m.\u001b[0m\u001b[0mto_numpy\u001b[0m\u001b[0;34m(\u001b[0m\u001b[0;34m)\u001b[0m\u001b[0;34m\u001b[0m\u001b[0;34m\u001b[0m\u001b[0m\n\u001b[0;32m----> 7\u001b[0;31m         \u001b[0mplt\u001b[0m\u001b[0;34m.\u001b[0m\u001b[0mhist\u001b[0m\u001b[0;34m(\u001b[0m\u001b[0mx_idx\u001b[0m\u001b[0;34m,\u001b[0m \u001b[0malpha\u001b[0m\u001b[0;34m=\u001b[0m\u001b[0;36m0.5\u001b[0m\u001b[0;34m,\u001b[0m \u001b[0mcolor\u001b[0m\u001b[0;34m=\u001b[0m\u001b[0mcolor\u001b[0m\u001b[0;34m,\u001b[0m \u001b[0mlabel\u001b[0m\u001b[0;34m=\u001b[0m\u001b[0;34mf'Cluster {label}'\u001b[0m\u001b[0;34m)\u001b[0m\u001b[0;34m\u001b[0m\u001b[0;34m\u001b[0m\u001b[0m\n\u001b[0m\u001b[1;32m      8\u001b[0m \u001b[0;34m\u001b[0m\u001b[0m\n\u001b[1;32m      9\u001b[0m     \u001b[0mplt\u001b[0m\u001b[0;34m.\u001b[0m\u001b[0mgrid\u001b[0m\u001b[0;34m(\u001b[0m\u001b[0;34m'both'\u001b[0m\u001b[0;34m)\u001b[0m\u001b[0;34m\u001b[0m\u001b[0;34m\u001b[0m\u001b[0m\n",
            "\u001b[0;32m/usr/local/lib/python3.10/dist-packages/matplotlib/pyplot.py\u001b[0m in \u001b[0;36mhist\u001b[0;34m(x, bins, range, density, weights, cumulative, bottom, histtype, align, orientation, rwidth, log, color, label, stacked, data, **kwargs)\u001b[0m\n\u001b[1;32m   2643\u001b[0m         \u001b[0morientation\u001b[0m\u001b[0;34m=\u001b[0m\u001b[0;34m'vertical'\u001b[0m\u001b[0;34m,\u001b[0m \u001b[0mrwidth\u001b[0m\u001b[0;34m=\u001b[0m\u001b[0;32mNone\u001b[0m\u001b[0;34m,\u001b[0m \u001b[0mlog\u001b[0m\u001b[0;34m=\u001b[0m\u001b[0;32mFalse\u001b[0m\u001b[0;34m,\u001b[0m \u001b[0mcolor\u001b[0m\u001b[0;34m=\u001b[0m\u001b[0;32mNone\u001b[0m\u001b[0;34m,\u001b[0m\u001b[0;34m\u001b[0m\u001b[0;34m\u001b[0m\u001b[0m\n\u001b[1;32m   2644\u001b[0m         label=None, stacked=False, *, data=None, **kwargs):\n\u001b[0;32m-> 2645\u001b[0;31m     return gca().hist(\n\u001b[0m\u001b[1;32m   2646\u001b[0m         \u001b[0mx\u001b[0m\u001b[0;34m,\u001b[0m \u001b[0mbins\u001b[0m\u001b[0;34m=\u001b[0m\u001b[0mbins\u001b[0m\u001b[0;34m,\u001b[0m \u001b[0mrange\u001b[0m\u001b[0;34m=\u001b[0m\u001b[0mrange\u001b[0m\u001b[0;34m,\u001b[0m \u001b[0mdensity\u001b[0m\u001b[0;34m=\u001b[0m\u001b[0mdensity\u001b[0m\u001b[0;34m,\u001b[0m \u001b[0mweights\u001b[0m\u001b[0;34m=\u001b[0m\u001b[0mweights\u001b[0m\u001b[0;34m,\u001b[0m\u001b[0;34m\u001b[0m\u001b[0;34m\u001b[0m\u001b[0m\n\u001b[1;32m   2647\u001b[0m         \u001b[0mcumulative\u001b[0m\u001b[0;34m=\u001b[0m\u001b[0mcumulative\u001b[0m\u001b[0;34m,\u001b[0m \u001b[0mbottom\u001b[0m\u001b[0;34m=\u001b[0m\u001b[0mbottom\u001b[0m\u001b[0;34m,\u001b[0m \u001b[0mhisttype\u001b[0m\u001b[0;34m=\u001b[0m\u001b[0mhisttype\u001b[0m\u001b[0;34m,\u001b[0m\u001b[0;34m\u001b[0m\u001b[0;34m\u001b[0m\u001b[0m\n",
            "\u001b[0;32m/usr/local/lib/python3.10/dist-packages/matplotlib/__init__.py\u001b[0m in \u001b[0;36minner\u001b[0;34m(ax, data, *args, **kwargs)\u001b[0m\n\u001b[1;32m   1440\u001b[0m     \u001b[0;32mdef\u001b[0m \u001b[0minner\u001b[0m\u001b[0;34m(\u001b[0m\u001b[0max\u001b[0m\u001b[0;34m,\u001b[0m \u001b[0;34m*\u001b[0m\u001b[0margs\u001b[0m\u001b[0;34m,\u001b[0m \u001b[0mdata\u001b[0m\u001b[0;34m=\u001b[0m\u001b[0;32mNone\u001b[0m\u001b[0;34m,\u001b[0m \u001b[0;34m**\u001b[0m\u001b[0mkwargs\u001b[0m\u001b[0;34m)\u001b[0m\u001b[0;34m:\u001b[0m\u001b[0;34m\u001b[0m\u001b[0;34m\u001b[0m\u001b[0m\n\u001b[1;32m   1441\u001b[0m         \u001b[0;32mif\u001b[0m \u001b[0mdata\u001b[0m \u001b[0;32mis\u001b[0m \u001b[0;32mNone\u001b[0m\u001b[0;34m:\u001b[0m\u001b[0;34m\u001b[0m\u001b[0;34m\u001b[0m\u001b[0m\n\u001b[0;32m-> 1442\u001b[0;31m             \u001b[0;32mreturn\u001b[0m \u001b[0mfunc\u001b[0m\u001b[0;34m(\u001b[0m\u001b[0max\u001b[0m\u001b[0;34m,\u001b[0m \u001b[0;34m*\u001b[0m\u001b[0mmap\u001b[0m\u001b[0;34m(\u001b[0m\u001b[0msanitize_sequence\u001b[0m\u001b[0;34m,\u001b[0m \u001b[0margs\u001b[0m\u001b[0;34m)\u001b[0m\u001b[0;34m,\u001b[0m \u001b[0;34m**\u001b[0m\u001b[0mkwargs\u001b[0m\u001b[0;34m)\u001b[0m\u001b[0;34m\u001b[0m\u001b[0;34m\u001b[0m\u001b[0m\n\u001b[0m\u001b[1;32m   1443\u001b[0m \u001b[0;34m\u001b[0m\u001b[0m\n\u001b[1;32m   1444\u001b[0m         \u001b[0mbound\u001b[0m \u001b[0;34m=\u001b[0m \u001b[0mnew_sig\u001b[0m\u001b[0;34m.\u001b[0m\u001b[0mbind\u001b[0m\u001b[0;34m(\u001b[0m\u001b[0max\u001b[0m\u001b[0;34m,\u001b[0m \u001b[0;34m*\u001b[0m\u001b[0margs\u001b[0m\u001b[0;34m,\u001b[0m \u001b[0;34m**\u001b[0m\u001b[0mkwargs\u001b[0m\u001b[0;34m)\u001b[0m\u001b[0;34m\u001b[0m\u001b[0;34m\u001b[0m\u001b[0m\n",
            "\u001b[0;32m/usr/local/lib/python3.10/dist-packages/matplotlib/axes/_axes.py\u001b[0m in \u001b[0;36mhist\u001b[0;34m(self, x, bins, range, density, weights, cumulative, bottom, histtype, align, orientation, rwidth, log, color, label, stacked, **kwargs)\u001b[0m\n\u001b[1;32m   6744\u001b[0m             \u001b[0mcolors\u001b[0m \u001b[0;34m=\u001b[0m \u001b[0mmcolors\u001b[0m\u001b[0;34m.\u001b[0m\u001b[0mto_rgba_array\u001b[0m\u001b[0;34m(\u001b[0m\u001b[0mcolor\u001b[0m\u001b[0;34m)\u001b[0m\u001b[0;34m\u001b[0m\u001b[0;34m\u001b[0m\u001b[0m\n\u001b[1;32m   6745\u001b[0m             \u001b[0;32mif\u001b[0m \u001b[0mlen\u001b[0m\u001b[0;34m(\u001b[0m\u001b[0mcolors\u001b[0m\u001b[0;34m)\u001b[0m \u001b[0;34m!=\u001b[0m \u001b[0mnx\u001b[0m\u001b[0;34m:\u001b[0m\u001b[0;34m\u001b[0m\u001b[0;34m\u001b[0m\u001b[0m\n\u001b[0;32m-> 6746\u001b[0;31m                 raise ValueError(f\"The 'color' keyword argument must have one \"\n\u001b[0m\u001b[1;32m   6747\u001b[0m                                  \u001b[0;34mf\"color per dataset, but {nx} datasets and \"\u001b[0m\u001b[0;34m\u001b[0m\u001b[0;34m\u001b[0m\u001b[0m\n\u001b[1;32m   6748\u001b[0m                                  f\"{len(colors)} colors were provided\")\n",
            "\u001b[0;31mValueError\u001b[0m: The 'color' keyword argument must have one color per dataset, but 784 datasets and 1 colors were provided"
          ]
        },
        {
          "output_type": "display_data",
          "data": {
            "text/plain": [
              "<Figure size 640x480 with 1 Axes>"
            ],
            "image/png": "[encoded data removed]"
          },
          "metadata": {}
        }
      ],
      "source": [
        "diffusion_steps = 20\n",
        "eps = 1e-2\n",
        "\n",
        "# Add noise to the data\n",
        "\n",
        "X_noised = add_noise(X, diffusion_steps, eps)\n",
        "#X_noised = X_noised.to_numpy()\n",
        "# Plot histograms with noise\n",
        "n_clusters = len(np.unique(y))\n",
        "colors = plot_gaussian_distributions(X_noised, y, n_clusters)\n",
        "plot_noised_histograms(X_noised, y, colors)\n",
        "\n"
      ]
    },
    {
      "cell_type": "code",
      "execution_count": null,
      "id": "b8a42b82-8fb6-488c-87ab-362bfc39d3a6",
      "metadata": {
        "id": "b8a42b82-8fb6-488c-87ab-362bfc39d3a6"
      },
      "outputs": [],
      "source": [
        "# Add noise to the data\n",
        "diffusion_steps = 500\n",
        "eps = 1e-2\n",
        "X_noised = add_noise(X, diffusion_steps, eps)\n",
        "\n",
        "# Plot histograms with noise\n",
        "plot_noised_histograms(X_noised, y, colors)"
      ]
    },
    {
      "cell_type": "code",
      "execution_count": null,
      "id": "d2dee468-5726-4d38-85cf-2958a0fa92d2",
      "metadata": {
        "id": "d2dee468-5726-4d38-85cf-2958a0fa92d2"
      },
      "outputs": [],
      "source": [
        "# Add noise to the data\n",
        "diffusion_steps = 2000\n",
        "eps = 1e-2\n",
        "X_noised = add_noise(X, diffusion_steps, eps)\n",
        "\n",
        "# Plot histograms with noise\n",
        "plot_noised_histograms(X_noised, y, colors)"
      ]
    },
    {
      "cell_type": "code",
      "execution_count": null,
      "id": "1a1e6188-c99c-425b-9884-e0bf4fbc8fc4",
      "metadata": {
        "id": "1a1e6188-c99c-425b-9884-e0bf4fbc8fc4"
      },
      "outputs": [],
      "source": [
        "# Add noise to the data\n",
        "diffusion_steps = 20000\n",
        "eps = 1e-2\n",
        "X_noised = add_noise(X, diffusion_steps, eps)\n",
        "\n",
        "# Plot histograms with noise\n",
        "plot_noised_histograms(X_noised, y, colors)"
      ]
    },
    {
      "cell_type": "code",
      "execution_count": null,
      "id": "f3d83e2f-61fc-467b-aeaa-e5c651e4766d",
      "metadata": {
        "id": "f3d83e2f-61fc-467b-aeaa-e5c651e4766d"
      },
      "outputs": [],
      "source": [
        "# Add noise to the data\n",
        "diffusion_steps = 100000\n",
        "eps = 1e-2\n",
        "X_noised = add_noise(X, diffusion_steps, eps)\n",
        "\n",
        "# Plot histograms with noise\n",
        "plot_noised_histograms(X_noised, y, colors)"
      ]
    },
    {
      "cell_type": "code",
      "execution_count": null,
      "id": "59733503-6e64-458e-81be-1ae49ae7273b",
      "metadata": {
        "id": "59733503-6e64-458e-81be-1ae49ae7273b"
      },
      "outputs": [],
      "source": []
    }
  ],
  "metadata": {
    "kernelspec": {
      "display_name": "tensorflow",
      "language": "python",
      "name": "tensorflow"
    },
    "language_info": {
      "codemirror_mode": {
        "name": "ipython",
        "version": 3
      },
      "file_extension": ".py",
      "mimetype": "text/x-python",
      "name": "python",
      "nbconvert_exporter": "python",
      "pygments_lexer": "ipython3",
      "version": "3.9.15"
    },
    "colab": {
      "provenance": [],
      "include_colab_link": true
    }
  },
  "nbformat": 4,
  "nbformat_minor": 5
}